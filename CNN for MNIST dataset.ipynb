{
 "cells": [
  {
   "cell_type": "code",
   "execution_count": 1,
   "metadata": {},
   "outputs": [
    {
     "name": "stderr",
     "output_type": "stream",
     "text": [
      "Using TensorFlow backend.\n"
     ]
    }
   ],
   "source": [
    "%matplotlib inline\n",
    "%config InlineBackend.figure_format = 'retina'\n",
    "import matplotlib.pyplot as plt\n",
    "import pandas as pd\n",
    "import numpy as np\n",
    "import seaborn as sns\n",
    "import warnings\n",
    "\n",
    "warnings.filterwarnings('ignore')\n",
    "\n",
    "import keras\n",
    "from keras.datasets import mnist\n",
    "from keras.models import Sequential\n",
    "from keras.layers import Dense, Input, Conv2D, MaxPooling2D, Flatten, Dropout, BatchNormalization\n",
    "from keras.optimizers import Adam\n",
    "import matplotlib.pyplot as plt\n"
   ]
  },
  {
   "cell_type": "markdown",
   "metadata": {},
   "source": [
    "# Preprocessing Data"
   ]
  },
  {
   "cell_type": "code",
   "execution_count": 2,
   "metadata": {},
   "outputs": [],
   "source": [
    "batch_size = 128\n",
    "num_classes = 10\n",
    "epochs = 2\n",
    "\n",
    "\n",
    "\n",
    "(X_train, y_train), (X_test, y_test) = mnist.load_data()\n",
    "X_train = X_train.reshape(60000, 784)\n",
    "X_test = X_test.reshape(10000, 784)\n",
    "X_train = X_train.astype('float32')\n",
    "X_test = X_test.astype('float32')\n",
    "X_train /= 255\n",
    "X_test /= 255\n",
    "y_train=y_train.reshape(-1,1)\n",
    "y_test=y_test.reshape(-1,1)\n",
    "\n",
    "\n",
    "Data_Train=np.hstack([X_train,y_train])\n",
    "Data_Test=np.hstack([X_test,y_test])\n",
    "\n",
    "X_train_1=Data_Train[Data_Train[:,784]<5]\n",
    "X_test_1=Data_Test[Data_Test[:,784]<5]\n",
    "\n",
    "X_train_2=Data_Train[Data_Train[:,784]>=5]\n",
    "X_test_2=Data_Test[Data_Test[:,784]>=5]\n",
    "\n",
    "y_train_1= X_train_1[:,784]\n",
    "y_train_2= X_train_2[:,784]\n",
    "y_test_1 = X_test_1[:,784]\n",
    "y_test_2 = X_test_2[:,784]\n",
    "\n",
    "X_train_1= X_train_1[:,0:784]\n",
    "X_train_2= X_train_2[:,0:784]\n",
    "X_test_1= X_test_1[:,0:784]\n",
    "X_test_2= X_test_2[:,0:784]\n",
    "\n",
    "\n",
    "y_train_1 = keras.utils.to_categorical(y_train_1, num_classes)\n",
    "y_test_1 = keras.utils.to_categorical(y_test_1, num_classes)\n",
    "y_train_2 = keras.utils.to_categorical(y_train_2, 10)\n",
    "y_test_2 = keras.utils.to_categorical(y_test_2, 10)\n",
    "y_test = keras.utils.to_categorical(y_test, 10)\n",
    "\n",
    "X_train_1= X_train_1.reshape(len(X_train_1),28,28,1)\n",
    "X_train_2= X_train_2.reshape(len(X_train_2),28,28,1)\n",
    "X_test_1= X_test_1[:,0:784].reshape(len(X_test_1),28,28,1)\n",
    "X_test_2= X_test_2[:,0:784].reshape(len(X_test_2),28,28,1)\n",
    "X_test = X_test.reshape(len(X_test),28,28,1)"
   ]
  },
  {
   "cell_type": "markdown",
   "metadata": {},
   "source": [
    "# Compiling the CNN model to train on numbers 0 to 4"
   ]
  },
  {
   "cell_type": "code",
   "execution_count": 7,
   "metadata": {},
   "outputs": [
    {
     "name": "stdout",
     "output_type": "stream",
     "text": [
      "_________________________________________________________________\n",
      "Layer (type)                 Output Shape              Param #   \n",
      "=================================================================\n",
      "conv_1 (Conv2D)              (None, 28, 28, 16)        160       \n",
      "_________________________________________________________________\n",
      "maxpool_1 (MaxPooling2D)     (None, 14, 14, 16)        0         \n",
      "_________________________________________________________________\n",
      "conv_2 (Conv2D)              (None, 14, 14, 32)        4640      \n",
      "_________________________________________________________________\n",
      "maxpool_2 (MaxPooling2D)     (None, 7, 7, 32)          0         \n",
      "_________________________________________________________________\n",
      "flatten_3 (Flatten)          (None, 1568)              0         \n",
      "_________________________________________________________________\n",
      "dropout_3 (Dropout)          (None, 1568)              0         \n",
      "_________________________________________________________________\n",
      "dense_1 (Dense)              (None, 256)               401664    \n",
      "_________________________________________________________________\n",
      "output (Dense)               (None, 10)                2570      \n",
      "=================================================================\n",
      "Total params: 409,034\n",
      "Trainable params: 409,034\n",
      "Non-trainable params: 0\n",
      "_________________________________________________________________\n"
     ]
    }
   ],
   "source": [
    "model = Sequential()\n",
    "model.add(Conv2D(16, (3, 3), activation='relu', padding='same', name='conv_1', \n",
    "                 input_shape=(28, 28, 1)))\n",
    "model.add(MaxPooling2D((2, 2), name='maxpool_1'))\n",
    "model.add(Conv2D(32, (3, 3), activation='relu', padding='same', name='conv_2'))\n",
    "model.add(MaxPooling2D((2, 2), name='maxpool_2'))\n",
    "model.add(Flatten())\n",
    "model.add(Dropout(0.5))\n",
    "model.add(Dense(256, activation='relu', name='dense_1'))\n",
    "#model.add(Dense(128, activation='relu', name='dense_2'))\n",
    "model.add(Dense(num_classes, activation='softmax', name='output'))\n",
    "\n",
    "model.compile(optimizer='adam', loss='binary_crossentropy', metrics=['categorical_accuracy'])\n",
    "\n",
    "model.summary()"
   ]
  },
  {
   "cell_type": "markdown",
   "metadata": {},
   "source": [
    "# Fitting model on training set 1 and testing on test set"
   ]
  },
  {
   "cell_type": "code",
   "execution_count": 8,
   "metadata": {},
   "outputs": [
    {
     "name": "stdout",
     "output_type": "stream",
     "text": [
      "Train on 30596 samples, validate on 5139 samples\n",
      "Epoch 1/2\n",
      "30596/30596 [==============================] - 64s 2ms/step - loss: 0.0304 - categorical_accuracy: 0.9454 - val_loss: 0.0053 - val_categorical_accuracy: 0.9926\n",
      "Epoch 2/2\n",
      "30596/30596 [==============================] - 61s 2ms/step - loss: 0.0089 - categorical_accuracy: 0.9849 - val_loss: 0.0034 - val_categorical_accuracy: 0.9938\n",
      "10000/10000 [==============================] - 9s 885us/step\n",
      "Test loss: 0.8512219931602478\n",
      "Test accuracy: 0.5107\n"
     ]
    }
   ],
   "source": [
    "history = model.fit(X_train_1, y_train_1,\n",
    "                    batch_size=batch_size,\n",
    "                    epochs=2,\n",
    "                    verbose=1,\n",
    "                    validation_data=(X_test_1, y_test_1))\n",
    "                    \n",
    "score = model.evaluate(X_test, y_test, verbose=1)\n",
    "print('Test loss:', score[0])\n",
    "print('Test accuracy:', score[1])"
   ]
  },
  {
   "cell_type": "markdown",
   "metadata": {},
   "source": [
    "# Freezing all the layers of CNN model prior to softmax and adding one more layer to the model  to train on numbers 5 to 9"
   ]
  },
  {
   "cell_type": "code",
   "execution_count": 9,
   "metadata": {},
   "outputs": [
    {
     "name": "stdout",
     "output_type": "stream",
     "text": [
      "_________________________________________________________________\n",
      "Layer (type)                 Output Shape              Param #   \n",
      "=================================================================\n",
      "conv_1 (Conv2D)              (None, 28, 28, 16)        160       \n",
      "_________________________________________________________________\n",
      "maxpool_1 (MaxPooling2D)     (None, 14, 14, 16)        0         \n",
      "_________________________________________________________________\n",
      "conv_2 (Conv2D)              (None, 14, 14, 32)        4640      \n",
      "_________________________________________________________________\n",
      "maxpool_2 (MaxPooling2D)     (None, 7, 7, 32)          0         \n",
      "_________________________________________________________________\n",
      "flatten_3 (Flatten)          (None, 1568)              0         \n",
      "_________________________________________________________________\n",
      "dropout_3 (Dropout)          (None, 1568)              0         \n",
      "_________________________________________________________________\n",
      "dense_1 (Dense)              (None, 256)               401664    \n",
      "_________________________________________________________________\n",
      "dense_2 (Dense)              (None, 128)               32896     \n",
      "_________________________________________________________________\n",
      "output (Dense)               (None, 10)                1290      \n",
      "=================================================================\n",
      "Total params: 440,650\n",
      "Trainable params: 34,186\n",
      "Non-trainable params: 406,464\n",
      "_________________________________________________________________\n"
     ]
    }
   ],
   "source": [
    "for layer in model.layers:\n",
    "    layer.trainable=False\n",
    "\n",
    "model.pop()\n",
    "model.add(Dense(128, activation='relu', name='dense_2'))\n",
    "model.add(Dense(num_classes, activation='softmax', name='output'))\n",
    "    \n",
    "    \n",
    "model.compile(optimizer='adam', loss='binary_crossentropy', metrics=['categorical_accuracy'])\n",
    "model.summary()"
   ]
  },
  {
   "cell_type": "markdown",
   "metadata": {},
   "source": [
    "# Fitting model on training set 2 and testing on test set"
   ]
  },
  {
   "cell_type": "code",
   "execution_count": 10,
   "metadata": {},
   "outputs": [
    {
     "name": "stdout",
     "output_type": "stream",
     "text": [
      "Train on 29404 samples, validate on 4861 samples\n",
      "Epoch 1/2\n",
      "29404/29404 [==============================] - 32s 1ms/step - loss: 0.0760 - categorical_accuracy: 0.8566 - val_loss: 0.0315 - val_categorical_accuracy: 0.9502\n",
      "Epoch 2/2\n",
      "29404/29404 [==============================] - 30s 1ms/step - loss: 0.0414 - categorical_accuracy: 0.9251 - val_loss: 0.0226 - val_categorical_accuracy: 0.9644\n",
      "Test loss: 0.8163049454689026\n",
      "Test accuracy: 0.4688\n"
     ]
    }
   ],
   "source": [
    "history = model.fit(X_train_2, y_train_2,\n",
    "                    batch_size=batch_size,\n",
    "                    epochs=2,\n",
    "                    verbose=1,\n",
    "                    validation_data=(X_test_2, y_test_2))\n",
    "                    \n",
    "score = model.evaluate(X_test, y_test, verbose=0)\n",
    "print('Test loss:', score[0])\n",
    "print('Test accuracy:', score[1])"
   ]
  },
  {
   "cell_type": "code",
   "execution_count": null,
   "metadata": {},
   "outputs": [],
   "source": []
  }
 ],
 "metadata": {
  "kernelspec": {
   "display_name": "Python 3",
   "language": "python",
   "name": "python3"
  },
  "language_info": {
   "codemirror_mode": {
    "name": "ipython",
    "version": 3
   },
   "file_extension": ".py",
   "mimetype": "text/x-python",
   "name": "python",
   "nbconvert_exporter": "python",
   "pygments_lexer": "ipython3",
   "version": "3.6.8"
  }
 },
 "nbformat": 4,
 "nbformat_minor": 2
}
