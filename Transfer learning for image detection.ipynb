{
 "cells": [
  {
   "cell_type": "code",
   "execution_count": 21,
   "metadata": {},
   "outputs": [],
   "source": [
    "import os, shutil, keras"
   ]
  },
  {
   "cell_type": "code",
   "execution_count": 10,
   "metadata": {},
   "outputs": [],
   "source": [
    "dataset_dir=r'C:\\Users\\a_raf\\Downloads\\Compressed\\Lantern\\Machine Learning\\Assignment 3'\n",
    "bikes_dataset_dir=r'C:\\Users\\a_raf\\Downloads\\Compressed\\Lantern\\Machine Learning\\Assignment 3\\motorbike'\n",
    "car_dataset_dir=r'C:\\Users\\a_raf\\Downloads\\Compressed\\Lantern\\Machine Learning\\Assignment 3\\car'\n",
    "planes_dataset_dir= r'C:\\Users\\a_raf\\Downloads\\Compressed\\Lantern\\Machine Learning\\Assignment 3\\airplane'\n",
    "\n",
    "train_dir= os.path.join(dataset_dir,'train')\n",
    "validation_dir= os.path.join(dataset_dir,'validation')\n",
    "test_dir= os.path.join(dataset_dir,'test')\n",
    "\n",
    "train_cars_dir =os.path.join(train_dir,'cars')\n",
    "train_bikes_dir =os.path.join(train_dir,'bikes')\n",
    "train_planes_dir = os.path.join(train_dir,'planes')\n",
    "\n",
    "validation_cars_dir =os.path.join(validation_dir,'cars')\n",
    "validation_bikes_dir =os.path.join(validation_dir,'bikes')\n",
    "validation_planes_dir =os.path.join(validation_dir,'planes')\n",
    "\n",
    "test_cars_dir =os.path.join(test_dir,'cars')\n",
    "test_bikes_dir =os.path.join(test_dir,'bikes')\n",
    "test_planes_dir =os.path.join(test_dir,'planes')\n",
    "\n",
    "if not os.path.exists(train_dir):\n",
    "    os.mkdir(train_dir)\n",
    "    os.mkdir(validation_dir)\n",
    "    os.mkdir(test_dir)\n",
    "\n",
    "    \n",
    "    os.mkdir(train_cars_dir)\n",
    "    os.mkdir(train_bikes_dir)\n",
    "    os.mkdir(train_planes_dir)\n",
    "\n",
    "    \n",
    "    os.mkdir(validation_cars_dir)\n",
    "    os.mkdir(validation_bikes_dir)\n",
    "    os.mkdir(validation_planes_dir)\n",
    "\n",
    "    \n",
    "    os.mkdir(test_cars_dir)\n",
    "    os.mkdir(test_bikes_dir)\n",
    "    os.mkdir(test_planes_dir)\n"
   ]
  },
  {
   "cell_type": "code",
   "execution_count": 15,
   "metadata": {},
   "outputs": [],
   "source": [
    "if len(os.listdir(test_bikes_dir))==0:\n",
    "    fnames =['motorbike_{:0>4d}.jpg'.format(i) for i in range(158)]\n",
    "    for fname in fnames:\n",
    "        src = os.path.join(bikes_dataset_dir,fname)\n",
    "        dst = os.path.join(test_bikes_dir,fname)\n",
    "        shutil.copyfile(src, dst)\n",
    "\n",
    "    fnames =['motorbike_{:0>4d}.jpg'.format(i) for i in range(158,316)]\n",
    "    for fname in fnames:\n",
    "        src = os.path.join(bikes_dataset_dir,fname)\n",
    "        dst = os.path.join(validation_bikes_dir,fname)\n",
    "        shutil.copyfile(src, dst)\n",
    "    \n",
    "    fnames =['motorbike_{:0>4d}.jpg'.format(i) for i in range(316,788)]\n",
    "    for fname in fnames:\n",
    "        src = os.path.join(bikes_dataset_dir,fname)\n",
    "        dst = os.path.join(train_bikes_dir,fname)\n",
    "        shutil.copyfile(src, dst)    "
   ]
  },
  {
   "cell_type": "code",
   "execution_count": 16,
   "metadata": {},
   "outputs": [],
   "source": [
    "if len(os.listdir(test_cars_dir))==0:\n",
    "    fnames =['car_{:0>4d}.jpg'.format(i) for i in range(194)]\n",
    "    for fname in fnames:\n",
    "        src = os.path.join(car_dataset_dir,fname)\n",
    "        dst = os.path.join(test_cars_dir,fname)\n",
    "        shutil.copyfile(src, dst)\n",
    "\n",
    "    fnames =['car_{:0>4d}.jpg'.format(i) for i in range(194,388)]\n",
    "    for fname in fnames:\n",
    "        src = os.path.join(car_dataset_dir,fname)\n",
    "        dst = os.path.join(validation_cars_dir,fname)\n",
    "        shutil.copyfile(src, dst)\n",
    "    \n",
    "    fnames =['car_{:0>4d}.jpg'.format(i) for i in range(388,968)]\n",
    "    for fname in fnames:\n",
    "        src = os.path.join(car_dataset_dir,fname)\n",
    "        dst = os.path.join(train_cars_dir,fname)\n",
    "        shutil.copyfile(src, dst)    "
   ]
  },
  {
   "cell_type": "code",
   "execution_count": 18,
   "metadata": {},
   "outputs": [],
   "source": [
    "if len(os.listdir(test_planes_dir))==0:\n",
    "    fnames =['airplane_{:0>4d}.jpg'.format(i) for i in range(145)]\n",
    "    for fname in fnames:\n",
    "        src = os.path.join(planes_dataset_dir,fname)\n",
    "        dst = os.path.join(test_planes_dir,fname)\n",
    "        shutil.copyfile(src, dst)\n",
    "\n",
    "    fnames =['airplane_{:0>4d}.jpg'.format(i) for i in range(145,290)]\n",
    "    for fname in fnames:\n",
    "        src = os.path.join(planes_dataset_dir,fname)\n",
    "        dst = os.path.join(validation_planes_dir,fname)\n",
    "        shutil.copyfile(src, dst)\n",
    "    \n",
    "    fnames =['airplane_{:0>4d}.jpg'.format(i) for i in range(290,727)]\n",
    "    for fname in fnames:\n",
    "        src = os.path.join(planes_dataset_dir,fname)\n",
    "        dst = os.path.join(train_planes_dir,fname)\n",
    "        shutil.copyfile(src, dst)    "
   ]
  },
  {
   "cell_type": "code",
   "execution_count": 19,
   "metadata": {},
   "outputs": [
    {
     "name": "stdout",
     "output_type": "stream",
     "text": [
      "Total car training set images: 580\n",
      "Total car validation set images: 194\n",
      "Total car test set images: 194\n",
      "Total bike training set images: 472\n",
      "Total bike validation set images: 158\n",
      "Total bike test set images: 158\n",
      "Total plane training set images: 437\n",
      "Total plane validation set images: 145\n",
      "Total plane test set images: 145\n"
     ]
    }
   ],
   "source": [
    "print('Total car training set images:', len(os.listdir(train_cars_dir)))\n",
    "print('Total car validation set images:', len(os.listdir(validation_cars_dir)))\n",
    "print('Total car test set images:', len(os.listdir(test_cars_dir)))\n",
    "\n",
    "\n",
    "print('Total bike training set images:', len(os.listdir(train_bikes_dir)))\n",
    "print('Total bike validation set images:', len(os.listdir(validation_bikes_dir)))\n",
    "print('Total bike test set images:', len(os.listdir(test_bikes_dir)))\n",
    "\n",
    "print('Total plane training set images:', len(os.listdir(train_planes_dir)))\n",
    "print('Total plane validation set images:', len(os.listdir(validation_planes_dir)))\n",
    "print('Total plane test set images:', len(os.listdir(test_planes_dir)))\n"
   ]
  },
  {
   "cell_type": "code",
   "execution_count": 43,
   "metadata": {},
   "outputs": [
    {
     "name": "stdout",
     "output_type": "stream",
     "text": [
      "_________________________________________________________________\n",
      "Layer (type)                 Output Shape              Param #   \n",
      "=================================================================\n",
      "conv2d_13 (Conv2D)           (None, 148, 148, 32)      896       \n",
      "_________________________________________________________________\n",
      "max_pooling2d_13 (MaxPooling (None, 74, 74, 32)        0         \n",
      "_________________________________________________________________\n",
      "conv2d_14 (Conv2D)           (None, 72, 72, 64)        18496     \n",
      "_________________________________________________________________\n",
      "max_pooling2d_14 (MaxPooling (None, 36, 36, 64)        0         \n",
      "_________________________________________________________________\n",
      "conv2d_15 (Conv2D)           (None, 34, 34, 128)       73856     \n",
      "_________________________________________________________________\n",
      "max_pooling2d_15 (MaxPooling (None, 17, 17, 128)       0         \n",
      "_________________________________________________________________\n",
      "conv2d_16 (Conv2D)           (None, 15, 15, 128)       147584    \n",
      "_________________________________________________________________\n",
      "max_pooling2d_16 (MaxPooling (None, 7, 7, 128)         0         \n",
      "_________________________________________________________________\n",
      "flatten_4 (Flatten)          (None, 6272)              0         \n",
      "_________________________________________________________________\n",
      "dense_7 (Dense)              (None, 512)               3211776   \n",
      "_________________________________________________________________\n",
      "dense_8 (Dense)              (None, 3)                 1539      \n",
      "=================================================================\n",
      "Total params: 3,454,147\n",
      "Trainable params: 3,454,147\n",
      "Non-trainable params: 0\n",
      "_________________________________________________________________\n"
     ]
    }
   ],
   "source": [
    "from keras import layers\n",
    "from keras import models\n",
    "\n",
    "model=models.Sequential()\n",
    "model.add(layers.Conv2D(32, (3,3), activation='relu',input_shape=(150,150,3)))\n",
    "model.add(layers.MaxPool2D((2,2)))\n",
    "model.add(layers.Conv2D(64,(3,3),activation='relu'))\n",
    "model.add(layers.MaxPool2D(2,2))\n",
    "model.add(layers.Conv2D(128,(3,3), activation='relu'))\n",
    "model.add(layers.MaxPool2D(2,2))\n",
    "model.add(layers.Conv2D(128,(3,3), activation='relu'))\n",
    "model.add(layers.MaxPool2D(2,2))\n",
    "model.add(layers.Flatten())\n",
    "model.add(layers.Dense(512, activation= 'relu'))\n",
    "model.add(layers.Dense(3,activation='softmax'))\n",
    "\n",
    "model.summary()"
   ]
  },
  {
   "cell_type": "code",
   "execution_count": 44,
   "metadata": {},
   "outputs": [],
   "source": [
    "\n",
    "model.compile(loss='categorical_crossentropy',optimizer='adam', metrics=['categorical_accuracy'])"
   ]
  },
  {
   "cell_type": "code",
   "execution_count": 37,
   "metadata": {},
   "outputs": [
    {
     "name": "stdout",
     "output_type": "stream",
     "text": [
      "Found 1489 images belonging to 3 classes.\n",
      "Found 497 images belonging to 3 classes.\n"
     ]
    }
   ],
   "source": [
    "from keras.preprocessing.image import ImageDataGenerator\n",
    "\n",
    "train_datagen = ImageDataGenerator(rescale=1./255)\n",
    "test_datagen = ImageDataGenerator(rescale=1./255)\n",
    "\n",
    "train_generator = train_datagen.flow_from_directory(\n",
    "    train_dir, target_size=(150,150), batch_size=20,class_mode='categorical')\n",
    "\n",
    "validation_generator = test_datagen.flow_from_directory(\n",
    "    validation_dir, target_size=(150,150), batch_size=20,class_mode='categorical')"
   ]
  },
  {
   "cell_type": "code",
   "execution_count": 46,
   "metadata": {},
   "outputs": [
    {
     "name": "stdout",
     "output_type": "stream",
     "text": [
      "Epoch 1/10\n",
      "53/53 [==============================] - 133s 3s/step - loss: 0.5048 - categorical_accuracy: 0.7821 - val_loss: 0.4168 - val_categorical_accuracy: 0.8500\n",
      "Epoch 2/10\n",
      "53/53 [==============================] - 129s 2s/step - loss: 0.1511 - categorical_accuracy: 0.9453 - val_loss: 0.1873 - val_categorical_accuracy: 0.9412\n",
      "Epoch 3/10\n",
      "53/53 [==============================] - 126s 2s/step - loss: 0.0993 - categorical_accuracy: 0.9689 - val_loss: 0.2081 - val_categorical_accuracy: 0.9244\n",
      "Epoch 4/10\n",
      "53/53 [==============================] - 130s 2s/step - loss: 0.0430 - categorical_accuracy: 0.9887 - val_loss: 0.1101 - val_categorical_accuracy: 0.9639\n",
      "Epoch 5/10\n",
      "53/53 [==============================] - 173s 3s/step - loss: 0.1024 - categorical_accuracy: 0.9698 - val_loss: 0.2209 - val_categorical_accuracy: 0.9440\n",
      "Epoch 6/10\n",
      "53/53 [==============================] - 139s 3s/step - loss: 0.0232 - categorical_accuracy: 0.9896 - val_loss: 0.2300 - val_categorical_accuracy: 0.9552\n",
      "Epoch 7/10\n",
      "53/53 [==============================] - 142s 3s/step - loss: 0.0112 - categorical_accuracy: 0.9962 - val_loss: 0.2065 - val_categorical_accuracy: 0.9552\n",
      "Epoch 8/10\n",
      "53/53 [==============================] - 137s 3s/step - loss: 0.0281 - categorical_accuracy: 0.9904 - val_loss: 0.2534 - val_categorical_accuracy: 0.9500\n",
      "Epoch 9/10\n",
      "53/53 [==============================] - 137s 3s/step - loss: 0.0117 - categorical_accuracy: 0.9972 - val_loss: 0.1602 - val_categorical_accuracy: 0.9608\n",
      "Epoch 10/10\n",
      "53/53 [==============================] - 143s 3s/step - loss: 0.0131 - categorical_accuracy: 0.9962 - val_loss: 0.2513 - val_categorical_accuracy: 0.9524\n"
     ]
    }
   ],
   "source": [
    "history = model.fit_generator(\n",
    "    train_generator,steps_per_epoch=53,epochs=10,\n",
    "    validation_data=validation_generator,validation_steps=18)"
   ]
  },
  {
   "cell_type": "code",
   "execution_count": 50,
   "metadata": {},
   "outputs": [
    {
     "data": {
      "image/png": "[encoded data removed]",
      "text/plain": [
       "<Figure size 432x288 with 1 Axes>"
      ]
     },
     "metadata": {
      "needs_background": "light"
     },
     "output_type": "display_data"
    },
    {
     "data": {
      "image/png": "[encoded data removed]",
      "text/plain": [
       "<Figure size 432x288 with 1 Axes>"
      ]
     },
     "metadata": {
      "needs_background": "light"
     },
     "output_type": "display_data"
    }
   ],
   "source": [
    "import matplotlib.pyplot as plt\n",
    "\n",
    "acc = history.history['categorical_accuracy']\n",
    "val_acc = history.history['val_categorical_accuracy']\n",
    "loss = history.history['loss']\n",
    "val_loss = history.history['val_loss']\n",
    "\n",
    "epochs = range(len(acc))\n",
    "\n",
    "plt.plot(epochs, acc, 'bo', label='Training acc')\n",
    "plt.plot(epochs, val_acc, 'b', label='Validation acc')\n",
    "plt.title('Training and validation accuracy')\n",
    "plt.legend()\n",
    "\n",
    "plt.figure()\n",
    "\n",
    "plt.plot(epochs, loss, 'bo', label='Training loss')\n",
    "plt.plot(epochs, val_loss, 'b', label='Validation loss')\n",
    "plt.title('Training and validation loss')\n",
    "plt.legend()\n",
    "\n",
    "plt.show()"
   ]
  },
  {
   "cell_type": "code",
   "execution_count": 49,
   "metadata": {},
   "outputs": [
    {
     "data": {
      "text/plain": [
       "dict_keys(['val_loss', 'val_categorical_accuracy', 'loss', 'categorical_accuracy'])"
      ]
     },
     "execution_count": 49,
     "metadata": {},
     "output_type": "execute_result"
    }
   ],
   "source": [
    "history.history.keys()"
   ]
  },
  {
   "cell_type": "code",
   "execution_count": 51,
   "metadata": {},
   "outputs": [
    {
     "name": "stdout",
     "output_type": "stream",
     "text": [
      "Downloading data from https://github.com/fchollet/deep-learning-models/releases/download/v0.1/vgg16_weights_tf_dim_ordering_tf_kernels_notop.h5\n",
      "58892288/58889256 [==============================] - 97s 2us/step\n",
      "_________________________________________________________________\n",
      "Layer (type)                 Output Shape              Param #   \n",
      "=================================================================\n",
      "vgg16 (Model)                (None, 4, 4, 512)         14714688  \n",
      "_________________________________________________________________\n",
      "flatten_5 (Flatten)          (None, 8192)              0         \n",
      "_________________________________________________________________\n",
      "dense_9 (Dense)              (None, 256)               2097408   \n",
      "_________________________________________________________________\n",
      "dense_10 (Dense)             (None, 3)                 771       \n",
      "=================================================================\n",
      "Total params: 16,812,867\n",
      "Trainable params: 2,098,179\n",
      "Non-trainable params: 14,714,688\n",
      "_________________________________________________________________\n"
     ]
    }
   ],
   "source": [
    "from keras.applications import VGG16\n",
    "\n",
    "conv_base = VGG16(weights='imagenet',\n",
    "                  include_top=False,\n",
    "                  input_shape=(150, 150, 3))\n",
    "\n",
    "model_frozen = models.Sequential()\n",
    "model_frozen.add(conv_base)\n",
    "model_frozen.add(layers.Flatten())\n",
    "model_frozen.add(layers.Dense(256, activation='relu'))\n",
    "model_frozen.add(layers.Dense(3, activation='softmax'))\n",
    "\n",
    "conv_base.trainable = False\n",
    "\n",
    "model_frozen.summary()"
   ]
  },
  {
   "cell_type": "code",
   "execution_count": 52,
   "metadata": {},
   "outputs": [],
   "source": [
    "model_frozen.compile(loss='categorical_crossentropy',optimizer='adam', metrics=['categorical_accuracy'])"
   ]
  },
  {
   "cell_type": "code",
   "execution_count": 54,
   "metadata": {},
   "outputs": [
    {
     "name": "stdout",
     "output_type": "stream",
     "text": [
      "Epoch 1/12\n",
      "53/53 [==============================] - 576s 11s/step - loss: 0.0778 - categorical_accuracy: 0.9623 - val_loss: 0.0436 - val_categorical_accuracy: 0.9806\n",
      "Epoch 2/12\n",
      "53/53 [==============================] - 569s 11s/step - loss: 0.0135 - categorical_accuracy: 0.9962 - val_loss: 0.0216 - val_categorical_accuracy: 0.9888\n",
      "Epoch 3/12\n",
      "53/53 [==============================] - 573s 11s/step - loss: 0.0433 - categorical_accuracy: 0.9866 - val_loss: 0.0481 - val_categorical_accuracy: 0.9888\n",
      "Epoch 4/12\n",
      "53/53 [==============================] - 561s 11s/step - loss: 0.0021 - categorical_accuracy: 0.9991 - val_loss: 0.0300 - val_categorical_accuracy: 0.9917\n",
      "Epoch 5/12\n",
      "53/53 [==============================] - 570s 11s/step - loss: 7.3906e-05 - categorical_accuracy: 1.0000 - val_loss: 0.0173 - val_categorical_accuracy: 0.9944\n",
      "Epoch 6/12\n",
      "53/53 [==============================] - 563s 11s/step - loss: 1.0846e-05 - categorical_accuracy: 1.0000 - val_loss: 0.0310 - val_categorical_accuracy: 0.9916\n",
      "Epoch 7/12\n",
      "53/53 [==============================] - 570s 11s/step - loss: 3.9975e-07 - categorical_accuracy: 1.0000 - val_loss: 0.0178 - val_categorical_accuracy: 0.9944\n",
      "Epoch 8/12\n",
      "53/53 [==============================] - 572s 11s/step - loss: 8.3752e-06 - categorical_accuracy: 1.0000 - val_loss: 0.0304 - val_categorical_accuracy: 0.9917\n",
      "Epoch 9/12\n",
      "53/53 [==============================] - 576s 11s/step - loss: 6.6530e-06 - categorical_accuracy: 1.0000 - val_loss: 0.0354 - val_categorical_accuracy: 0.9916\n",
      "Epoch 10/12\n",
      "53/53 [==============================] - 563s 11s/step - loss: 5.1460e-07 - categorical_accuracy: 1.0000 - val_loss: 0.0047 - val_categorical_accuracy: 0.9972\n",
      "Epoch 11/12\n",
      "53/53 [==============================] - 562s 11s/step - loss: 7.6143e-06 - categorical_accuracy: 1.0000 - val_loss: 0.0290 - val_categorical_accuracy: 0.9944\n",
      "Epoch 12/12\n",
      "53/53 [==============================] - 563s 11s/step - loss: 2.5173e-06 - categorical_accuracy: 1.0000 - val_loss: 0.0231 - val_categorical_accuracy: 0.9944\n"
     ]
    }
   ],
   "source": [
    "history = model_frozen.fit_generator(\n",
    "    train_generator,steps_per_epoch=53,epochs=12,\n",
    "    validation_data=validation_generator,validation_steps=18)"
   ]
  },
  {
   "cell_type": "code",
   "execution_count": 55,
   "metadata": {},
   "outputs": [
    {
     "data": {
      "image/png": "[encoded data removed]",
      "text/plain": [
       "<Figure size 432x288 with 1 Axes>"
      ]
     },
     "metadata": {
      "needs_background": "light"
     },
     "output_type": "display_data"
    },
    {
     "data": {
      "image/png": "[encoded data removed]",
      "text/plain": [
       "<Figure size 432x288 with 1 Axes>"
      ]
     },
     "metadata": {
      "needs_background": "light"
     },
     "output_type": "display_data"
    }
   ],
   "source": [
    "acc = history.history['categorical_accuracy']\n",
    "val_acc = history.history['val_categorical_accuracy']\n",
    "loss = history.history['loss']\n",
    "val_loss = history.history['val_loss']\n",
    "\n",
    "epochs = range(len(acc))\n",
    "\n",
    "plt.plot(epochs, acc, 'bo', label='Training acc')\n",
    "plt.plot(epochs, val_acc, 'b', label='Validation acc')\n",
    "plt.title('Training and validation accuracy')\n",
    "plt.legend()\n",
    "\n",
    "plt.figure()\n",
    "\n",
    "plt.plot(epochs, loss, 'bo', label='Training loss')\n",
    "plt.plot(epochs, val_loss, 'b', label='Validation loss')\n",
    "plt.title('Training and validation loss')\n",
    "plt.legend()\n",
    "\n",
    "plt.show()"
   ]
  },
  {
   "cell_type": "code",
   "execution_count": 56,
   "metadata": {},
   "outputs": [
    {
     "name": "stdout",
     "output_type": "stream",
     "text": [
      "Found 497 images belonging to 3 classes.\n"
     ]
    }
   ],
   "source": [
    "test_generator = test_datagen.flow_from_directory(\n",
    "    test_dir,target_size=(150,150), batch_size=20,class_mode='categorical')"
   ]
  },
  {
   "cell_type": "code",
   "execution_count": 58,
   "metadata": {},
   "outputs": [
    {
     "name": "stdout",
     "output_type": "stream",
     "text": [
      "Test loss for model 1: 0.18034140360625966\n",
      "Test accuracy for model 1: 0.9557343988831134\n",
      "Test loss for model 2: 0.0593229088031997\n",
      "Test accuracy for model 2: 0.9919517083427076\n"
     ]
    }
   ],
   "source": [
    "score = model.evaluate_generator(test_generator,steps=25,verbose=0)\n",
    "print('Test loss for model 1:', score[0])\n",
    "print('Test accuracy for model 1:', score[1])\n",
    "\n",
    "score = model_frozen.evaluate_generator(test_generator,steps=25,verbose=0)\n",
    "print('Test loss for model 2:', score[0])\n",
    "print('Test accuracy for model 2:', score[1])"
   ]
  },
  {
   "cell_type": "code",
   "execution_count": null,
   "metadata": {},
   "outputs": [],
   "source": []
  }
 ],
 "metadata": {
  "kernelspec": {
   "display_name": "Python 3",
   "language": "python",
   "name": "python3"
  },
  "language_info": {
   "codemirror_mode": {
    "name": "ipython",
    "version": 3
   },
   "file_extension": ".py",
   "mimetype": "text/x-python",
   "name": "python",
   "nbconvert_exporter": "python",
   "pygments_lexer": "ipython3",
   "version": "3.6.8"
  }
 },
 "nbformat": 4,
 "nbformat_minor": 2
}
