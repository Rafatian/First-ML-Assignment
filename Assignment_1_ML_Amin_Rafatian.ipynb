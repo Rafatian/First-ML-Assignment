{
 "cells": [
  {
   "cell_type": "code",
   "execution_count": 1,
   "metadata": {},
   "outputs": [
    {
     "name": "stderr",
     "output_type": "stream",
     "text": [
      "Using TensorFlow backend.\n"
     ]
    }
   ],
   "source": [
    "%matplotlib inline\n",
    "%config InlineBackend.figure_format = 'retina'\n",
    "import matplotlib.pyplot as plt\n",
    "import pandas as pd\n",
    "import numpy as np\n",
    "import seaborn as sns\n",
    "import warnings\n",
    "\n",
    "warnings.filterwarnings('ignore')\n",
    "\n",
    "import keras\n",
    "from keras.datasets import mnist\n",
    "from keras.models import Sequential\n",
    "from keras.layers import Dense, Input, Conv2D, MaxPooling2D, Flatten, Dropout, BatchNormalization\n",
    "from keras.optimizers import Adam\n",
    "import matplotlib.pyplot as plt\n"
   ]
  },
  {
   "cell_type": "markdown",
   "metadata": {},
   "source": [
    "# Preprocessing Data"
   ]
  },
  {
   "cell_type": "code",
   "execution_count": 2,
   "metadata": {},
   "outputs": [],
   "source": [
    "batch_size = 128\n",
    "num_classes = 10\n",
    "epochs = 2\n",
    "\n",
    "\n",
    "\n",
    "(X_train, y_train), (X_test, y_test) = mnist.load_data()\n",
    "X_train = X_train.reshape(60000, 784)\n",
    "X_test = X_test.reshape(10000, 784)\n",
    "X_train = X_train.astype('float32')\n",
    "X_test = X_test.astype('float32')\n",
    "X_train /= 255\n",
    "X_test /= 255\n",
    "y_train=y_train.reshape(-1,1)\n",
    "y_test=y_test.reshape(-1,1)\n",
    "\n",
    "\n",
    "Data_Train=np.hstack([X_train,y_train])\n",
    "Data_Test=np.hstack([X_test,y_test])\n",
    "\n",
    "X_train_1=Data_Train[Data_Train[:,784]<5]\n",
    "X_test_1=Data_Test[Data_Test[:,784]<5]\n",
    "\n",
    "X_train_2=Data_Train[Data_Train[:,784]>=5]\n",
    "X_test_2=Data_Test[Data_Test[:,784]>=5]\n",
    "\n",
    "y_train_1= X_train_1[:,784]\n",
    "y_train_2= X_train_2[:,784]\n",
    "y_test_1 = X_test_1[:,784]\n",
    "y_test_2 = X_test_2[:,784]\n",
    "\n",
    "X_train_1= X_train_1[:,0:784]\n",
    "X_train_2= X_train_2[:,0:784]\n",
    "X_test_1= X_test_1[:,0:784]\n",
    "X_test_2= X_test_2[:,0:784]\n",
    "\n",
    "\n",
    "y_train_1 = keras.utils.to_categorical(y_train_1, num_classes)\n",
    "y_test_1 = keras.utils.to_categorical(y_test_1, num_classes)\n",
    "y_train_2 = keras.utils.to_categorical(y_train_2, 10)\n",
    "y_test_2 = keras.utils.to_categorical(y_test_2, 10)\n",
    "y_test = keras.utils.to_categorical(y_test, 10)\n",
    "\n",
    "X_train_1= X_train_1.reshape(len(X_train_1),28,28,1)\n",
    "X_train_2= X_train_2.reshape(len(X_train_2),28,28,1)\n",
    "X_test_1= X_test_1[:,0:784].reshape(len(X_test_1),28,28,1)\n",
    "X_test_2= X_test_2[:,0:784].reshape(len(X_test_2),28,28,1)\n",
    "X_test = X_test.reshape(len(X_test),28,28,1)"
   ]
  },
  {
   "cell_type": "markdown",
   "metadata": {},
   "source": [
    "# Compiling the CNN model to train on numbers 0 to 4"
   ]
  },
  {
   "cell_type": "code",
   "execution_count": 3,
   "metadata": {},
   "outputs": [
    {
     "name": "stdout",
     "output_type": "stream",
     "text": [
      "WARNING:tensorflow:From C:\\Users\\a_raf\\Anaconda3\\envs\\LanternNN\\lib\\site-packages\\tensorflow\\python\\framework\\op_def_library.py:263: colocate_with (from tensorflow.python.framework.ops) is deprecated and will be removed in a future version.\n",
      "Instructions for updating:\n",
      "Colocations handled automatically by placer.\n",
      "WARNING:tensorflow:From C:\\Users\\a_raf\\Anaconda3\\envs\\LanternNN\\lib\\site-packages\\keras\\backend\\tensorflow_backend.py:3445: calling dropout (from tensorflow.python.ops.nn_ops) with keep_prob is deprecated and will be removed in a future version.\n",
      "Instructions for updating:\n",
      "Please use `rate` instead of `keep_prob`. Rate should be set to `rate = 1 - keep_prob`.\n",
      "_________________________________________________________________\n",
      "Layer (type)                 Output Shape              Param #   \n",
      "=================================================================\n",
      "conv_1 (Conv2D)              (None, 28, 28, 16)        160       \n",
      "_________________________________________________________________\n",
      "maxpool_1 (MaxPooling2D)     (None, 14, 14, 16)        0         \n",
      "_________________________________________________________________\n",
      "conv_2 (Conv2D)              (None, 14, 14, 32)        4640      \n",
      "_________________________________________________________________\n",
      "maxpool_2 (MaxPooling2D)     (None, 7, 7, 32)          0         \n",
      "_________________________________________________________________\n",
      "flatten_1 (Flatten)          (None, 1568)              0         \n",
      "_________________________________________________________________\n",
      "dropout_1 (Dropout)          (None, 1568)              0         \n",
      "_________________________________________________________________\n",
      "dense_1 (Dense)              (None, 256)               401664    \n",
      "_________________________________________________________________\n",
      "output (Dense)               (None, 10)                2570      \n",
      "=================================================================\n",
      "Total params: 409,034\n",
      "Trainable params: 409,034\n",
      "Non-trainable params: 0\n",
      "_________________________________________________________________\n"
     ]
    }
   ],
   "source": [
    "model = Sequential()\n",
    "model.add(Conv2D(16, (3, 3), activation='relu', padding='same', name='conv_1', \n",
    "                 input_shape=(28, 28, 1)))\n",
    "model.add(MaxPooling2D((2, 2), name='maxpool_1'))\n",
    "model.add(Conv2D(32, (3, 3), activation='relu', padding='same', name='conv_2'))\n",
    "model.add(MaxPooling2D((2, 2), name='maxpool_2'))\n",
    "model.add(Flatten())\n",
    "model.add(Dropout(0.5))\n",
    "model.add(Dense(256, activation='relu', name='dense_1'))\n",
    "#model.add(Dense(128, activation='relu', name='dense_2'))\n",
    "model.add(Dense(num_classes, activation='softmax', name='output'))\n",
    "\n",
    "model.compile(optimizer='adam', loss='binary_crossentropy', metrics=['accuracy'])\n",
    "\n",
    "model.summary()"
   ]
  },
  {
   "cell_type": "markdown",
   "metadata": {},
   "source": [
    "# Fitting model on training set 1 and testing on test set"
   ]
  },
  {
   "cell_type": "code",
   "execution_count": 4,
   "metadata": {},
   "outputs": [
    {
     "name": "stdout",
     "output_type": "stream",
     "text": [
      "WARNING:tensorflow:From C:\\Users\\a_raf\\Anaconda3\\envs\\LanternNN\\lib\\site-packages\\tensorflow\\python\\ops\\math_ops.py:3066: to_int32 (from tensorflow.python.ops.math_ops) is deprecated and will be removed in a future version.\n",
      "Instructions for updating:\n",
      "Use tf.cast instead.\n",
      "Train on 30596 samples, validate on 5139 samples\n",
      "Epoch 1/2\n",
      "30596/30596 [==============================] - 63s 2ms/step - loss: 0.0317 - acc: 0.9882 - val_loss: 0.0047 - val_acc: 0.9984\n",
      "Epoch 2/2\n",
      "30596/30596 [==============================] - 61s 2ms/step - loss: 0.0082 - acc: 0.9973 - val_loss: 0.0026 - val_acc: 0.9990\n",
      "Test loss: 0.8132849838256836\n",
      "Test accuracy: 0.9052700316429139\n"
     ]
    }
   ],
   "source": [
    "history = model.fit(X_train_1, y_train_1,\n",
    "                    batch_size=batch_size,\n",
    "                    epochs=2,\n",
    "                    verbose=1,\n",
    "                    validation_data=(X_test_1, y_test_1))\n",
    "                    \n",
    "score = model.evaluate(X_test, y_test, verbose=0)\n",
    "print('Test loss:', score[0])\n",
    "print('Test accuracy:', score[1])"
   ]
  },
  {
   "cell_type": "markdown",
   "metadata": {},
   "source": [
    "# Freezing all the layers of CNN model prior to softmax and adding one more layer to the model  to train on numbers 5 to 9"
   ]
  },
  {
   "cell_type": "code",
   "execution_count": 5,
   "metadata": {},
   "outputs": [
    {
     "name": "stdout",
     "output_type": "stream",
     "text": [
      "_________________________________________________________________\n",
      "Layer (type)                 Output Shape              Param #   \n",
      "=================================================================\n",
      "conv_1 (Conv2D)              (None, 28, 28, 16)        160       \n",
      "_________________________________________________________________\n",
      "maxpool_1 (MaxPooling2D)     (None, 14, 14, 16)        0         \n",
      "_________________________________________________________________\n",
      "conv_2 (Conv2D)              (None, 14, 14, 32)        4640      \n",
      "_________________________________________________________________\n",
      "maxpool_2 (MaxPooling2D)     (None, 7, 7, 32)          0         \n",
      "_________________________________________________________________\n",
      "flatten_1 (Flatten)          (None, 1568)              0         \n",
      "_________________________________________________________________\n",
      "dropout_1 (Dropout)          (None, 1568)              0         \n",
      "_________________________________________________________________\n",
      "dense_1 (Dense)              (None, 256)               401664    \n",
      "_________________________________________________________________\n",
      "dense_2 (Dense)              (None, 128)               32896     \n",
      "_________________________________________________________________\n",
      "output (Dense)               (None, 10)                1290      \n",
      "=================================================================\n",
      "Total params: 440,650\n",
      "Trainable params: 34,186\n",
      "Non-trainable params: 406,464\n",
      "_________________________________________________________________\n"
     ]
    }
   ],
   "source": [
    "for layer in model.layers:\n",
    "    layer.trainable=False\n",
    "\n",
    "model.pop()\n",
    "model.add(Dense(128, activation='relu', name='dense_2'))\n",
    "model.add(Dense(num_classes, activation='softmax', name='output'))\n",
    "    \n",
    "    \n",
    "model.compile(optimizer='adam', loss='binary_crossentropy', metrics=['accuracy'])\n",
    "model.summary()"
   ]
  },
  {
   "cell_type": "markdown",
   "metadata": {},
   "source": [
    "# Fitting model on training set 2 and testing on test set"
   ]
  },
  {
   "cell_type": "code",
   "execution_count": 6,
   "metadata": {},
   "outputs": [
    {
     "name": "stdout",
     "output_type": "stream",
     "text": [
      "Train on 29404 samples, validate on 4861 samples\n",
      "Epoch 1/2\n",
      "29404/29404 [==============================] - 32s 1ms/step - loss: 0.0759 - acc: 0.9725 - val_loss: 0.0282 - val_acc: 0.9915\n",
      "Epoch 2/2\n",
      "29404/29404 [==============================] - 30s 1ms/step - loss: 0.0408 - acc: 0.9851 - val_loss: 0.0231 - val_acc: 0.9921\n",
      "Test loss: 0.8018990623474122\n",
      "Test accuracy: 0.8981900324821472\n"
     ]
    }
   ],
   "source": [
    "history = model.fit(X_train_2, y_train_2,\n",
    "                    batch_size=batch_size,\n",
    "                    epochs=2,\n",
    "                    verbose=1,\n",
    "                    validation_data=(X_test_2, y_test_2))\n",
    "                    \n",
    "score = model.evaluate(X_test, y_test, verbose=0)\n",
    "print('Test loss:', score[0])\n",
    "print('Test accuracy:', score[1])"
   ]
  },
  {
   "cell_type": "code",
   "execution_count": null,
   "metadata": {},
   "outputs": [],
   "source": []
  }
 ],
 "metadata": {
  "kernelspec": {
   "display_name": "Python 3",
   "language": "python",
   "name": "python3"
  },
  "language_info": {
   "codemirror_mode": {
    "name": "ipython",
    "version": 3
   },
   "file_extension": ".py",
   "mimetype": "text/x-python",
   "name": "python",
   "nbconvert_exporter": "python",
   "pygments_lexer": "ipython3",
   "version": "3.6.8"
  }
 },
 "nbformat": 4,
 "nbformat_minor": 2
}
